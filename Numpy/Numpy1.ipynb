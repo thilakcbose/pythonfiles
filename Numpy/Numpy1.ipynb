{
 "cells": [
  {
   "cell_type": "code",
   "execution_count": 27,
   "metadata": {},
   "outputs": [
    {
     "name": "stdout",
     "output_type": "stream",
     "text": [
      "[ 5  6  7  8  9 10 11 12 13 14 15]\n"
     ]
    }
   ],
   "source": [
    "import numpy as np\n",
    "arr = np.arange(5,16)\n",
    "print(arr)"
   ]
  },
  {
   "cell_type": "code",
   "execution_count": 3,
   "metadata": {},
   "outputs": [
    {
     "name": "stdout",
     "output_type": "stream",
     "text": [
      "[2.         2.42857143 2.85714286 3.28571429 3.71428571 4.14285714\n",
      " 4.57142857 5.         5.42857143 5.85714286 6.28571429 6.71428571\n",
      " 7.14285714 7.57142857 8.        ]\n"
     ]
    }
   ],
   "source": [
    "arr = np.linspace(2,8,15)\n",
    "print(arr)"
   ]
  },
  {
   "cell_type": "code",
   "execution_count": 5,
   "metadata": {},
   "outputs": [
    {
     "name": "stdout",
     "output_type": "stream",
     "text": [
      "[[3 7 6]\n",
      " [3 7 8]\n",
      " [0 7 0]]\n"
     ]
    }
   ],
   "source": [
    "arr = np.random.randint(0, 11, size=(3, 3))\n",
    "print(arr)\n"
   ]
  },
  {
   "cell_type": "code",
   "execution_count": 7,
   "metadata": {},
   "outputs": [
    {
     "name": "stdout",
     "output_type": "stream",
     "text": [
      "[[0.06574053 0.3256937 ]\n",
      " [0.35707301 0.67878683]]\n"
     ]
    }
   ],
   "source": [
    "matflt = np.random.random(size=(2,2))\n",
    "print(matflt)"
   ]
  },
  {
   "cell_type": "code",
   "execution_count": 9,
   "metadata": {},
   "outputs": [
    {
     "name": "stdout",
     "output_type": "stream",
     "text": [
      "[[ 8  7  5]\n",
      " [ 9  7 10]\n",
      " [ 7 11 11]]\n",
      "[[ 7 11 11]\n",
      " [ 9  7 10]\n",
      " [ 8  7  5]]\n"
     ]
    }
   ],
   "source": [
    "arr = np.random.randint(5, 12, size=(3, 3))\n",
    "newarr = arr[::-1]\n",
    "print(arr)\n",
    "print(newarr)"
   ]
  },
  {
   "cell_type": "code",
   "execution_count": 16,
   "metadata": {},
   "outputs": [
    {
     "name": "stdout",
     "output_type": "stream",
     "text": [
      "[[ 0  1  2  3]\n",
      " [ 4  5  6  7]\n",
      " [ 8  9 10 11]]\n"
     ]
    }
   ],
   "source": [
    "import numpy as np\n",
    "arr = np.arange(12)\n",
    "mat = arr.reshape(3,4)\n",
    "print(mat)"
   ]
  },
  {
   "cell_type": "code",
   "execution_count": 18,
   "metadata": {},
   "outputs": [
    {
     "name": "stdout",
     "output_type": "stream",
     "text": [
      "[[1 2 3]\n",
      " [4 5 6]\n",
      " [7 8 9]]\n",
      "[[1 4 7]\n",
      " [2 5 8]\n",
      " [3 6 9]]\n"
     ]
    }
   ],
   "source": [
    "mat = np.arange(1,10)\n",
    "matrix = mat.reshape(3,3)\n",
    "Transpose = np.transpose(matrix)\n",
    "print(matrix)\n",
    "print(Transpose)\n"
   ]
  },
  {
   "cell_type": "code",
   "execution_count": 19,
   "metadata": {},
   "outputs": [
    {
     "name": "stdout",
     "output_type": "stream",
     "text": [
      "[ 2  8 18 32 50 72]\n"
     ]
    }
   ],
   "source": [
    "arr = np.arange(1,7)\n",
    "arr1 = [2, 4, 6, 8, 10, 12]\n",
    "mul = arr * arr1\n",
    "print(mul)"
   ]
  },
  {
   "cell_type": "code",
   "execution_count": 22,
   "metadata": {},
   "outputs": [
    {
     "name": "stdout",
     "output_type": "stream",
     "text": [
      "[[[20 86 14]\n",
      "  [ 5 49 81]\n",
      "  [58 44 55]]\n",
      "\n",
      " [[67 99 29]\n",
      "  [89 48 85]\n",
      "  [27 87  9]]\n",
      "\n",
      " [[74  5 30]\n",
      "  [28 14 99]\n",
      "  [99 85 83]]]\n"
     ]
    }
   ],
   "source": [
    "arr = np.random.randint(1, 100, size=(3, 3,3))\n",
    "print(arr)"
   ]
  },
  {
   "cell_type": "code",
   "execution_count": 26,
   "metadata": {},
   "outputs": [
    {
     "name": "stdout",
     "output_type": "stream",
     "text": [
      "[[ 1  2  3  4]\n",
      " [ 5  6  7  8]\n",
      " [ 9 10 11 12]\n",
      " [13 14 15 16]]\n",
      "[[[ 1  2  3  4]\n",
      "  [ 5  6  7  8]]\n",
      "\n",
      " [[ 9 10 11 12]\n",
      "  [13 14 15 16]]]\n"
     ]
    }
   ],
   "source": [
    "arr = np.arange(1,17).reshape(4,4)\n",
    "print(arr)\n",
    "\n",
    "arr3d = arr.reshape(2,2,4)\n",
    "print(arr3d)"
   ]
  }
 ],
 "metadata": {
  "kernelspec": {
   "display_name": "Python 3",
   "language": "python",
   "name": "python3"
  },
  "language_info": {
   "codemirror_mode": {
    "name": "ipython",
    "version": 3
   },
   "file_extension": ".py",
   "mimetype": "text/x-python",
   "name": "python",
   "nbconvert_exporter": "python",
   "pygments_lexer": "ipython3",
   "version": "3.12.0"
  }
 },
 "nbformat": 4,
 "nbformat_minor": 2
}
