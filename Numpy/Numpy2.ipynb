{
 "cells": [
  {
   "cell_type": "code",
   "execution_count": 1,
   "metadata": {},
   "outputs": [
    {
     "name": "stdout",
     "output_type": "stream",
     "text": [
      "[[1. 0. 0. 0.]\n",
      " [0. 1. 0. 0.]\n",
      " [0. 0. 1. 0.]\n",
      " [0. 0. 0. 1.]]\n"
     ]
    }
   ],
   "source": [
    "import numpy as np\n",
    "matrix = np.eye(4)\n",
    "\n",
    "print(matrix)"
   ]
  },
  {
   "cell_type": "code",
   "execution_count": 2,
   "metadata": {},
   "outputs": [
    {
     "name": "stdout",
     "output_type": "stream",
     "text": [
      "[ 2  4  6  8 10 12 14 16 18 20]\n"
     ]
    }
   ],
   "source": [
    "arr = np.arange(1,11)*2\n",
    "print(arr)\n"
   ]
  },
  {
   "cell_type": "code",
   "execution_count": 7,
   "metadata": {},
   "outputs": [
    {
     "name": "stdout",
     "output_type": "stream",
     "text": [
      "[3. 4. 5. 6.]\n"
     ]
    }
   ],
   "source": [
    "arr = np.array([9, 16, 25, 36])\n",
    "sqrt = np.sqrt(arr)\n",
    "print(sqrt)"
   ]
  },
  {
   "cell_type": "code",
   "execution_count": 10,
   "metadata": {},
   "outputs": [
    {
     "name": "stdout",
     "output_type": "stream",
     "text": [
      "[[1. 1. 1.]\n",
      " [1. 1. 1.]\n",
      " [1. 1. 1.]\n",
      " [1. 1. 1.]]\n"
     ]
    }
   ],
   "source": [
    "ones = np.ones((4, 3))\n",
    "print(ones)"
   ]
  },
  {
   "cell_type": "code",
   "execution_count": 12,
   "metadata": {},
   "outputs": [
    {
     "name": "stdout",
     "output_type": "stream",
     "text": [
      "[ 1 49  9 81 25]\n"
     ]
    }
   ],
   "source": [
    "arr = np.array([1, 7, 3, 9, 5])\n",
    "arr[arr%2 != 0]**=2\n",
    "print(arr)\n"
   ]
  },
  {
   "cell_type": "code",
   "execution_count": 23,
   "metadata": {},
   "outputs": [
    {
     "name": "stdout",
     "output_type": "stream",
     "text": [
      "0.42984815259715586\n",
      "[[0.64024882 0.42740989 0.80107241 0.04325401]\n",
      " [0.00937506 0.46544877 0.56879915 0.29029022]\n",
      " [0.19863001 0.907323   0.0807588  0.05805071]\n",
      " [0.70920666 0.35412321 0.92835289 0.39522682]]\n"
     ]
    }
   ],
   "source": [
    "array = np.random.random(size = (4,4))\n",
    "mean = np.mean(array)\n",
    "print(mean)\n",
    "print(array)\n"
   ]
  },
  {
   "cell_type": "code",
   "execution_count": 28,
   "metadata": {},
   "outputs": [
    {
     "name": "stdout",
     "output_type": "stream",
     "text": [
      "[ 0 -1  2 -1  4 -1  6 -1  8 -1]\n"
     ]
    }
   ],
   "source": [
    "arr = np.arange(0,10)\n",
    "arr[arr%2!=0] = -1\n",
    "print(arr)"
   ]
  },
  {
   "cell_type": "code",
   "execution_count": 4,
   "metadata": {},
   "outputs": [
    {
     "name": "stdout",
     "output_type": "stream",
     "text": [
      "[[1 0 4 7 7]\n",
      " [5 4 0 0 9]\n",
      " [2 7 1 7 1]\n",
      " [9 6 5 4 5]\n",
      " [2 6 1 5 6]]\n",
      "[[4 0 0]\n",
      " [7 1 7]\n",
      " [6 5 4]]\n"
     ]
    }
   ],
   "source": [
    "import numpy as np\n",
    "\n",
    "arr = np.random.randint(0, 10, size=(5, 5))\n",
    "\n",
    "innerelements = arr[1:-1, 1:-1]\n",
    "\n",
    "print(arr)\n",
    "print(innerelements)\n",
    "   "
   ]
  },
  {
   "cell_type": "code",
   "execution_count": 6,
   "metadata": {},
   "outputs": [
    {
     "name": "stdout",
     "output_type": "stream",
     "text": [
      "[[ 2 14 48 65]\n",
      " [81 16 67 41]\n",
      " [88 16 50 65]\n",
      " [17 63 24  3]]\n",
      "[[0 0 1 1]\n",
      " [1 0 1 0]\n",
      " [1 0 1 1]\n",
      " [0 1 0 0]]\n"
     ]
    }
   ],
   "source": [
    "import numpy as np\n",
    "\n",
    "matrix = np.random.randint(1, 101, size=(4, 4))\n",
    "\n",
    "average = np.mean(matrix)\n",
    "\n",
    "result = np.where(matrix > average , 1, 0)\n",
    "\n",
    "print(matrix)\n",
    "\n",
    "print(result)\n"
   ]
  },
  {
   "cell_type": "code",
   "execution_count": 7,
   "metadata": {},
   "outputs": [
    {
     "name": "stdout",
     "output_type": "stream",
     "text": [
      "[[19 22]\n",
      " [43 50]]\n"
     ]
    }
   ],
   "source": [
    "import numpy as np\n",
    "\n",
    "a = np.array([[1, 2], [3, 4]])\n",
    "b = np.array([[5, 6], [7, 8]])\n",
    "\n",
    "result = np.dot(a, b)\n",
    "\n",
    "print(result)\n"
   ]
  },
  {
   "cell_type": "code",
   "execution_count": 8,
   "metadata": {},
   "outputs": [
    {
     "name": "stdout",
     "output_type": "stream",
     "text": [
      "[[[2 8]\n",
      "  [1 4]\n",
      "  [4 7]]\n",
      "\n",
      " [[0 5]\n",
      "  [6 0]\n",
      "  [1 2]]\n",
      "\n",
      " [[7 8]\n",
      "  [2 6]\n",
      "  [8 0]]\n",
      "\n",
      " [[0 1]\n",
      "  [9 8]\n",
      "  [1 5]]]\n",
      "[[10  5 11]\n",
      " [ 5  6  3]\n",
      " [15  8  8]\n",
      " [ 1 17  6]]\n"
     ]
    }
   ],
   "source": [
    "import numpy as np\n",
    "\n",
    "arr = np.random.randint(0, 10, size=(4, 3, 2))\n",
    "\n",
    "sum = np.sum(arr, axis=2)\n",
    "\n",
    "print(arr)\n",
    "\n",
    "print(sum)\n"
   ]
  },
  {
   "cell_type": "code",
   "execution_count": 9,
   "metadata": {},
   "outputs": [
    {
     "name": "stdout",
     "output_type": "stream",
     "text": [
      "[[[75 59 51]\n",
      "  [48 19 81]\n",
      "  [59 46 26]\n",
      "  [56 85 55]]\n",
      "\n",
      " [[39 96  2]\n",
      "  [70 22 33]\n",
      "  [20 49 81]\n",
      "  [38 22 19]]]\n",
      "[[59.5  52.25 53.25]\n",
      " [41.75 47.25 33.75]]\n"
     ]
    }
   ],
   "source": [
    "import numpy as np\n",
    "\n",
    "arr = np.random.randint(0, 100, size=(2, 4, 3))\n",
    "\n",
    "mean = np.mean(arr, axis=1)\n",
    "\n",
    "print(arr)\n",
    "\n",
    "print(mean)\n"
   ]
  }
 ],
 "metadata": {
  "kernelspec": {
   "display_name": "Python 3",
   "language": "python",
   "name": "python3"
  },
  "language_info": {
   "codemirror_mode": {
    "name": "ipython",
    "version": 3
   },
   "file_extension": ".py",
   "mimetype": "text/x-python",
   "name": "python",
   "nbconvert_exporter": "python",
   "pygments_lexer": "ipython3",
   "version": "3.12.0"
  }
 },
 "nbformat": 4,
 "nbformat_minor": 2
}
