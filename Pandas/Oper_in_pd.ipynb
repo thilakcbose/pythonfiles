{
  "nbformat": 4,
  "nbformat_minor": 0,
  "metadata": {
    "colab": {
      "provenance": []
    },
    "kernelspec": {
      "name": "python3",
      "display_name": "Python 3"
    },
    "language_info": {
      "name": "python"
    }
  },
  "cells": [
    {
      "cell_type": "code",
      "execution_count": 2,
      "metadata": {
        "id": "gbKfbXw6-Rj1"
      },
      "outputs": [],
      "source": [
        "import pandas as pd\n",
        "df = pd.read_csv(\"healthcare-dataset-stroke-data.csv\")"
      ]
    },
    {
      "cell_type": "code",
      "source": [
        "import pandas as pd\n",
        "df = pd.read_csv(\"healthcare-dataset-stroke-data.csv\")\n",
        "df.set_index('id', inplace=True)\n",
        "\n"
      ],
      "metadata": {
        "id": "BEjT8Iie-h_h"
      },
      "execution_count": 5,
      "outputs": []
    },
    {
      "cell_type": "code",
      "source": [
        "print(df.head(5))"
      ],
      "metadata": {
        "colab": {
          "base_uri": "https://localhost:8080/"
        },
        "id": "4JHf9vvf_YCa",
        "outputId": "aa1f7879-81be-4dbd-eec9-ad6f7c6b8a1e"
      },
      "execution_count": 7,
      "outputs": [
        {
          "output_type": "stream",
          "name": "stdout",
          "text": [
            "       gender   age  hypertension  heart_disease ever_married      work_type  \\\n",
            "id                                                                             \n",
            "9046     Male  67.0             0              1          Yes        Private   \n",
            "51676  Female  61.0             0              0          Yes  Self-employed   \n",
            "31112    Male  80.0             0              1          Yes        Private   \n",
            "60182  Female  49.0             0              0          Yes        Private   \n",
            "1665   Female  79.0             1              0          Yes  Self-employed   \n",
            "\n",
            "      Residence_type avg_glucose_level   bmi   smoking_status  stroke  \n",
            "id                                                                     \n",
            "9046           Urban           £228.69  36.6  formerly smoked       1  \n",
            "51676          Rural           £202.21   NaN     never smoked       1  \n",
            "31112          Rural           £105.92  32.5     never smoked       1  \n",
            "60182          Urban           £171.23  34.4           smokes       1  \n",
            "1665           Rural           £174.12  24.0     never smoked       1  \n"
          ]
        }
      ]
    },
    {
      "cell_type": "code",
      "source": [
        "print(df.tail(5))"
      ],
      "metadata": {
        "colab": {
          "base_uri": "https://localhost:8080/"
        },
        "id": "_IA_XhKQ_hRE",
        "outputId": "e134e4e1-9ec7-48b0-eb62-48d4f6ec040f"
      },
      "execution_count": 8,
      "outputs": [
        {
          "output_type": "stream",
          "name": "stdout",
          "text": [
            "       gender   age  hypertension  heart_disease ever_married      work_type  \\\n",
            "id                                                                             \n",
            "18234  Female  80.0             1              0          Yes        Private   \n",
            "44873  Female  81.0             0              0          Yes  Self-employed   \n",
            "19723  Female  35.0             0              0          Yes  Self-employed   \n",
            "37544    Male  51.0             0              0          Yes        Private   \n",
            "44679  Female  44.0             0              0          Yes       Govt_job   \n",
            "\n",
            "      Residence_type avg_glucose_level   bmi   smoking_status  stroke  \n",
            "id                                                                     \n",
            "18234          Urban            £83.75   NaN     never smoked       0  \n",
            "44873          Urban           £125.20  40.0     never smoked       0  \n",
            "19723          Rural            £82.99  30.6     never smoked       0  \n",
            "37544          Rural           £166.29  25.6  formerly smoked       0  \n",
            "44679          Urban            £85.28  26.2          Unknown       0  \n"
          ]
        }
      ]
    },
    {
      "cell_type": "code",
      "source": [
        "print(df.loc[99])"
      ],
      "metadata": {
        "colab": {
          "base_uri": "https://localhost:8080/"
        },
        "id": "Z2CvAwdo_uxQ",
        "outputId": "b8f273be-2f95-4c22-9373-9a59c540d20f"
      },
      "execution_count": 13,
      "outputs": [
        {
          "output_type": "stream",
          "name": "stdout",
          "text": [
            "gender                     Female\n",
            "age                          69.0\n",
            "hypertension                    0\n",
            "heart_disease                   0\n",
            "ever_married                  Yes\n",
            "work_type                Govt_job\n",
            "Residence_type              Urban\n",
            "avg_glucose_level          £82.81\n",
            "bmi                          28.0\n",
            "smoking_status       never smoked\n",
            "stroke                          1\n",
            "Name: 4639, dtype: object\n"
          ]
        }
      ]
    },
    {
      "cell_type": "code",
      "source": [
        "\n",
        "print(df.index[99])\n"
      ],
      "metadata": {
        "colab": {
          "base_uri": "https://localhost:8080/"
        },
        "id": "f7O1OMslAGxi",
        "outputId": "97a366e8-cf8d-4601-a7be-a1735155774e"
      },
      "execution_count": 15,
      "outputs": [
        {
          "output_type": "stream",
          "name": "stdout",
          "text": [
            "4639\n"
          ]
        }
      ]
    },
    {
      "cell_type": "code",
      "source": [
        "print(df.max())\n"
      ],
      "metadata": {
        "colab": {
          "base_uri": "https://localhost:8080/"
        },
        "id": "Qtw_i-gqAURJ",
        "outputId": "7e9b9b89-4415-480e-e46e-e5a2a8ae8fb5"
      },
      "execution_count": 16,
      "outputs": [
        {
          "output_type": "stream",
          "name": "stdout",
          "text": [
            "gender                  Other\n",
            "age                      82.0\n",
            "hypertension                1\n",
            "heart_disease               1\n",
            "ever_married              Yes\n",
            "work_type            children\n",
            "Residence_type          Urban\n",
            "avg_glucose_level      £99.97\n",
            "bmi                      97.6\n",
            "smoking_status         smokes\n",
            "stroke                      1\n",
            "dtype: object\n"
          ]
        }
      ]
    },
    {
      "cell_type": "code",
      "source": [
        "\n",
        "distinct_work_types = df['work_type'].nunique()\n",
        "\n",
        "print(distinct_work_types)\n"
      ],
      "metadata": {
        "colab": {
          "base_uri": "https://localhost:8080/"
        },
        "id": "ulqNU2QxAzuY",
        "outputId": "fea5fd9a-f180-4cab-83a9-2253fd6cf164"
      },
      "execution_count": 21,
      "outputs": [
        {
          "output_type": "stream",
          "name": "stdout",
          "text": [
            "5\n"
          ]
        }
      ]
    },
    {
      "cell_type": "code",
      "source": [
        "count = df[\"gender\"].value_counts()\n",
        "print(count)"
      ],
      "metadata": {
        "colab": {
          "base_uri": "https://localhost:8080/"
        },
        "id": "UwmE8IPVBi6J",
        "outputId": "4597387b-aad7-4411-9b60-f77785658003"
      },
      "execution_count": 22,
      "outputs": [
        {
          "output_type": "stream",
          "name": "stdout",
          "text": [
            "Female    2994\n",
            "Male      2115\n",
            "Other        1\n",
            "Name: gender, dtype: int64\n"
          ]
        }
      ]
    },
    {
      "cell_type": "code",
      "source": [
        "df['avg_glucose_level'] = df['avg_glucose_level'].replace('£', '')\n",
        "df['avg_glucose_level'] = pd.to_numeric(df['avg_glucose_level'], errors='coerce')\n",
        "average_glucose = df.groupby('gender')['avg_glucose_level'].mean()\n",
        "print(average_glucose)"
      ],
      "metadata": {
        "colab": {
          "base_uri": "https://localhost:8080/"
        },
        "id": "2L_oJELeBtcz",
        "outputId": "f3fc99ef-f04e-44d7-c103-7a5d3b492339"
      },
      "execution_count": 31,
      "outputs": [
        {
          "output_type": "stream",
          "name": "stdout",
          "text": [
            "gender\n",
            "Female    104.057809\n",
            "Male      109.088520\n",
            "Other     143.330000\n",
            "Name: avg_glucose_level, dtype: float64\n"
          ]
        }
      ]
    },
    {
      "cell_type": "code",
      "source": [
        "print(df.describe())"
      ],
      "metadata": {
        "colab": {
          "base_uri": "https://localhost:8080/"
        },
        "id": "MqMKWK1FEJoZ",
        "outputId": "5f65b0b8-ba3e-4ae3-a277-02773c23f6b3"
      },
      "execution_count": 32,
      "outputs": [
        {
          "output_type": "stream",
          "name": "stdout",
          "text": [
            "               age  hypertension  heart_disease  avg_glucose_level  \\\n",
            "count  5110.000000   5110.000000    5110.000000        5110.000000   \n",
            "mean     43.226614      0.097456       0.054012         106.147677   \n",
            "std      22.612647      0.296607       0.226063          45.283560   \n",
            "min       0.080000      0.000000       0.000000          55.120000   \n",
            "25%      25.000000      0.000000       0.000000          77.245000   \n",
            "50%      45.000000      0.000000       0.000000          91.885000   \n",
            "75%      61.000000      0.000000       0.000000         114.090000   \n",
            "max      82.000000      1.000000       1.000000         271.740000   \n",
            "\n",
            "               bmi       stroke  \n",
            "count  4909.000000  5110.000000  \n",
            "mean     28.893237     0.048728  \n",
            "std       7.854067     0.215320  \n",
            "min      10.300000     0.000000  \n",
            "25%      23.500000     0.000000  \n",
            "50%      28.100000     0.000000  \n",
            "75%      33.100000     0.000000  \n",
            "max      97.600000     1.000000  \n"
          ]
        }
      ]
    },
    {
      "cell_type": "code",
      "source": [
        "minimum = df[\"bmi\"].min()\n",
        "print(minimum)\n"
      ],
      "metadata": {
        "colab": {
          "base_uri": "https://localhost:8080/"
        },
        "id": "L5xJV_KeENiJ",
        "outputId": "d48dd94b-da05-4ff1-897e-5ff8cbe04ee5"
      },
      "execution_count": 34,
      "outputs": [
        {
          "output_type": "stream",
          "name": "stdout",
          "text": [
            "10.3\n"
          ]
        }
      ]
    },
    {
      "cell_type": "code",
      "source": [
        "Average = df[\"age\"].mean()\n",
        "print(Average)"
      ],
      "metadata": {
        "colab": {
          "base_uri": "https://localhost:8080/"
        },
        "id": "Hs_cwvcKEkZv",
        "outputId": "4c81c58b-628f-4150-fc9d-ebe4c927227b"
      },
      "execution_count": 35,
      "outputs": [
        {
          "output_type": "stream",
          "name": "stdout",
          "text": [
            "43.226614481409\n"
          ]
        }
      ]
    },
    {
      "cell_type": "code",
      "source": [
        "nullvalues = df.isnull().sum()\n",
        "\n",
        "print(nullvalues)\n"
      ],
      "metadata": {
        "colab": {
          "base_uri": "https://localhost:8080/"
        },
        "id": "LWUxMYZnEwUd",
        "outputId": "e6b68d72-a978-47bd-dc98-b04930c5c850"
      },
      "execution_count": 38,
      "outputs": [
        {
          "output_type": "stream",
          "name": "stdout",
          "text": [
            "gender                 0\n",
            "age                    0\n",
            "hypertension           0\n",
            "heart_disease          0\n",
            "ever_married           0\n",
            "work_type              0\n",
            "Residence_type         0\n",
            "avg_glucose_level      0\n",
            "bmi                  201\n",
            "smoking_status         0\n",
            "stroke                 0\n",
            "dtype: int64\n"
          ]
        }
      ]
    },
    {
      "cell_type": "code",
      "source": [
        "min_age_index = df['age'].idxmin()\n",
        "row_with_min_age = df.loc[min_age_index]\n",
        "\n",
        "print(row_with_min_age)"
      ],
      "metadata": {
        "colab": {
          "base_uri": "https://localhost:8080/"
        },
        "id": "cigOeOwNGZXr",
        "outputId": "9e4d3ce4-e5bf-4f82-eeae-fea16f2fdebf"
      },
      "execution_count": 40,
      "outputs": [
        {
          "output_type": "stream",
          "name": "stdout",
          "text": [
            "gender                 Female\n",
            "age                      0.08\n",
            "hypertension                0\n",
            "heart_disease               0\n",
            "ever_married               No\n",
            "work_type            children\n",
            "Residence_type          Urban\n",
            "avg_glucose_level      139.67\n",
            "bmi                      14.1\n",
            "smoking_status        Unknown\n",
            "stroke                      0\n",
            "Name: 47350, dtype: object\n"
          ]
        }
      ]
    }
  ]
}