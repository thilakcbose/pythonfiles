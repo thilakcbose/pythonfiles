{
 "cells": [
  {
   "cell_type": "code",
   "execution_count": 1,
   "metadata": {},
   "outputs": [
    {
     "name": "stdout",
     "output_type": "stream",
     "text": [
      "Defaulting to user installation because normal site-packages is not writeable\n",
      "Requirement already satisfied: pandas in c:\\users\\vzvijayk\\appdata\\roaming\\python\\python312\\site-packages (2.2.1)\n",
      "Requirement already satisfied: numpy<2,>=1.26.0 in c:\\users\\vzvijayk\\appdata\\roaming\\python\\python312\\site-packages (from pandas) (1.26.4)\n",
      "Requirement already satisfied: python-dateutil>=2.8.2 in c:\\users\\vzvijayk\\appdata\\roaming\\python\\python312\\site-packages (from pandas) (2.9.0.post0)\n",
      "Requirement already satisfied: pytz>=2020.1 in c:\\users\\vzvijayk\\appdata\\roaming\\python\\python312\\site-packages (from pandas) (2024.1)\n",
      "Requirement already satisfied: tzdata>=2022.7 in c:\\users\\vzvijayk\\appdata\\roaming\\python\\python312\\site-packages (from pandas) (2024.1)\n",
      "Requirement already satisfied: six>=1.5 in c:\\users\\vzvijayk\\appdata\\roaming\\python\\python312\\site-packages (from python-dateutil>=2.8.2->pandas) (1.16.0)\n",
      "Note: you may need to restart the kernel to use updated packages.\n"
     ]
    },
    {
     "name": "stderr",
     "output_type": "stream",
     "text": [
      "\n",
      "[notice] A new release of pip is available: 23.2.1 -> 24.0\n",
      "[notice] To update, run: python.exe -m pip install --upgrade pip\n"
     ]
    }
   ],
   "source": [
    "%pip install pandas"
   ]
  },
  {
   "cell_type": "code",
   "execution_count": 3,
   "metadata": {},
   "outputs": [
    {
     "data": {
      "text/html": [
       "<div>\n",
       "<style scoped>\n",
       "    .dataframe tbody tr th:only-of-type {\n",
       "        vertical-align: middle;\n",
       "    }\n",
       "\n",
       "    .dataframe tbody tr th {\n",
       "        vertical-align: top;\n",
       "    }\n",
       "\n",
       "    .dataframe thead th {\n",
       "        text-align: right;\n",
       "    }\n",
       "</style>\n",
       "<table border=\"1\" class=\"dataframe\">\n",
       "  <thead>\n",
       "    <tr style=\"text-align: right;\">\n",
       "      <th></th>\n",
       "      <th>SUBS_KEY</th>\n",
       "      <th>TARGET</th>\n",
       "      <th>OG_MOU_F4</th>\n",
       "      <th>IC_MOU_F4</th>\n",
       "      <th>OG_CALLS_F4</th>\n",
       "      <th>IC_CALLS_F4</th>\n",
       "      <th>RCHG_AMOUNT_F4</th>\n",
       "      <th>CNT_RCHG_F4</th>\n",
       "      <th>AVG_MBL_F4</th>\n",
       "      <th>IC_OG_RATIO_F4</th>\n",
       "      <th>...</th>\n",
       "      <th>AVG_NIG_USG_F10</th>\n",
       "      <th>AVG_STD_USG_F4</th>\n",
       "      <th>AVG_STD_USG_F7</th>\n",
       "      <th>AVG_STD_USG_F10</th>\n",
       "      <th>DND</th>\n",
       "      <th>DND_INFO</th>\n",
       "      <th>CHG_IC_MOU_L5_F5</th>\n",
       "      <th>USAGE_SPREAD</th>\n",
       "      <th>SUM_RCHG_MRP_L10</th>\n",
       "      <th>TARGET_21_30</th>\n",
       "    </tr>\n",
       "  </thead>\n",
       "  <tbody>\n",
       "    <tr>\n",
       "      <th>0</th>\n",
       "      <td>623576580</td>\n",
       "      <td>1</td>\n",
       "      <td>2.93</td>\n",
       "      <td>0.00</td>\n",
       "      <td>1</td>\n",
       "      <td>0</td>\n",
       "      <td>0</td>\n",
       "      <td>0</td>\n",
       "      <td>9.12</td>\n",
       "      <td>0.00</td>\n",
       "      <td>...</td>\n",
       "      <td>0.00</td>\n",
       "      <td>0.00</td>\n",
       "      <td>0.00</td>\n",
       "      <td>0.00</td>\n",
       "      <td>0</td>\n",
       "      <td>0</td>\n",
       "      <td>0.00</td>\n",
       "      <td>0.04</td>\n",
       "      <td>0</td>\n",
       "      <td>1</td>\n",
       "    </tr>\n",
       "    <tr>\n",
       "      <th>1</th>\n",
       "      <td>623576616</td>\n",
       "      <td>0</td>\n",
       "      <td>23.03</td>\n",
       "      <td>59.03</td>\n",
       "      <td>6</td>\n",
       "      <td>14</td>\n",
       "      <td>0</td>\n",
       "      <td>0</td>\n",
       "      <td>1.33</td>\n",
       "      <td>2.56</td>\n",
       "      <td>...</td>\n",
       "      <td>0.00</td>\n",
       "      <td>1.88</td>\n",
       "      <td>0.51</td>\n",
       "      <td>0.58</td>\n",
       "      <td>0</td>\n",
       "      <td>0</td>\n",
       "      <td>-0.25</td>\n",
       "      <td>0.30</td>\n",
       "      <td>70</td>\n",
       "      <td>0</td>\n",
       "    </tr>\n",
       "    <tr>\n",
       "      <th>2</th>\n",
       "      <td>623576617</td>\n",
       "      <td>0</td>\n",
       "      <td>16.25</td>\n",
       "      <td>24.73</td>\n",
       "      <td>12</td>\n",
       "      <td>18</td>\n",
       "      <td>95</td>\n",
       "      <td>2</td>\n",
       "      <td>16.48</td>\n",
       "      <td>1.52</td>\n",
       "      <td>...</td>\n",
       "      <td>0.14</td>\n",
       "      <td>0.00</td>\n",
       "      <td>0.00</td>\n",
       "      <td>0.00</td>\n",
       "      <td>0</td>\n",
       "      <td>0</td>\n",
       "      <td>0.77</td>\n",
       "      <td>0.36</td>\n",
       "      <td>288</td>\n",
       "      <td>0</td>\n",
       "    </tr>\n",
       "    <tr>\n",
       "      <th>3</th>\n",
       "      <td>623576618</td>\n",
       "      <td>1</td>\n",
       "      <td>3.27</td>\n",
       "      <td>6.42</td>\n",
       "      <td>4</td>\n",
       "      <td>10</td>\n",
       "      <td>0</td>\n",
       "      <td>0</td>\n",
       "      <td>7.70</td>\n",
       "      <td>1.96</td>\n",
       "      <td>...</td>\n",
       "      <td>0.17</td>\n",
       "      <td>0.00</td>\n",
       "      <td>0.00</td>\n",
       "      <td>0.00</td>\n",
       "      <td>0</td>\n",
       "      <td>0</td>\n",
       "      <td>0.11</td>\n",
       "      <td>0.26</td>\n",
       "      <td>0</td>\n",
       "      <td>1</td>\n",
       "    </tr>\n",
       "    <tr>\n",
       "      <th>4</th>\n",
       "      <td>623576655</td>\n",
       "      <td>1</td>\n",
       "      <td>0.00</td>\n",
       "      <td>0.00</td>\n",
       "      <td>0</td>\n",
       "      <td>0</td>\n",
       "      <td>0</td>\n",
       "      <td>0</td>\n",
       "      <td>10.00</td>\n",
       "      <td>999.00</td>\n",
       "      <td>...</td>\n",
       "      <td>0.00</td>\n",
       "      <td>0.00</td>\n",
       "      <td>0.00</td>\n",
       "      <td>0.00</td>\n",
       "      <td>0</td>\n",
       "      <td>0</td>\n",
       "      <td>0.00</td>\n",
       "      <td>0.00</td>\n",
       "      <td>0</td>\n",
       "      <td>0</td>\n",
       "    </tr>\n",
       "  </tbody>\n",
       "</table>\n",
       "<p>5 rows × 109 columns</p>\n",
       "</div>"
      ],
      "text/plain": [
       "    SUBS_KEY  TARGET  OG_MOU_F4  IC_MOU_F4  OG_CALLS_F4  IC_CALLS_F4  \\\n",
       "0  623576580       1       2.93       0.00            1            0   \n",
       "1  623576616       0      23.03      59.03            6           14   \n",
       "2  623576617       0      16.25      24.73           12           18   \n",
       "3  623576618       1       3.27       6.42            4           10   \n",
       "4  623576655       1       0.00       0.00            0            0   \n",
       "\n",
       "   RCHG_AMOUNT_F4  CNT_RCHG_F4  AVG_MBL_F4  IC_OG_RATIO_F4  ...  \\\n",
       "0               0            0        9.12            0.00  ...   \n",
       "1               0            0        1.33            2.56  ...   \n",
       "2              95            2       16.48            1.52  ...   \n",
       "3               0            0        7.70            1.96  ...   \n",
       "4               0            0       10.00          999.00  ...   \n",
       "\n",
       "   AVG_NIG_USG_F10  AVG_STD_USG_F4  AVG_STD_USG_F7  AVG_STD_USG_F10  DND  \\\n",
       "0             0.00            0.00            0.00             0.00    0   \n",
       "1             0.00            1.88            0.51             0.58    0   \n",
       "2             0.14            0.00            0.00             0.00    0   \n",
       "3             0.17            0.00            0.00             0.00    0   \n",
       "4             0.00            0.00            0.00             0.00    0   \n",
       "\n",
       "   DND_INFO  CHG_IC_MOU_L5_F5  USAGE_SPREAD  SUM_RCHG_MRP_L10  TARGET_21_30  \n",
       "0         0              0.00          0.04                 0             1  \n",
       "1         0             -0.25          0.30                70             0  \n",
       "2         0              0.77          0.36               288             0  \n",
       "3         0              0.11          0.26                 0             1  \n",
       "4         0              0.00          0.00                 0             0  \n",
       "\n",
       "[5 rows x 109 columns]"
      ]
     },
     "execution_count": 3,
     "metadata": {},
     "output_type": "execute_result"
    }
   ],
   "source": [
    "import pandas as pd\n",
    "df = pd.read_csv('telecom.csv')\n",
    "df.head()"
   ]
  },
  {
   "cell_type": "code",
   "execution_count": 27,
   "metadata": {},
   "outputs": [
    {
     "name": "stdout",
     "output_type": "stream",
     "text": [
      "The customer with the highest recharge in the first 7 days is 623611898 with 15 recharges.\n",
      "This customer was on the VLR for 7 days in the first 7 days.\n"
     ]
    }
   ],
   "source": [
    "import pandas as pd\n",
    "\n",
    "df = pd.read_csv('telecom.csv', dtype={'SUBS_KEY': str})\n",
    "\n",
    "max_recharge_row = df.loc[df['CNT_RCHG_F7'].idxmax()]\n",
    "\n",
    "print(f\"The customer with the highest recharge in the first 7 days is {max_recharge_row['SUBS_KEY']} with {max_recharge_row['CNT_RCHG_F7']} recharges.\")\n",
    "print(f\"This customer was on the VLR for {max_recharge_row['CNT_VLR_INS_F7']} days in the first 7 days.\")"
   ]
  },
  {
   "cell_type": "code",
   "execution_count": 29,
   "metadata": {},
   "outputs": [
    {
     "name": "stdout",
     "output_type": "stream",
     "text": [
      "The average SLP_ICMOU_F7 for churned customers in the first 7 days (between 21 to 30 days) is 0.18823757763975155\n"
     ]
    }
   ],
   "source": [
    "average_slope = df.loc[df['TARGET_21_30'] == 1, 'SLP_ICMOU_F7'].mean()\n",
    "print(f\"The average SLP_ICMOU_F7 for churned customers in the first 7 days (between 21 to 30 days) is {average_slope}\" if (df['TARGET_21_30'] == 1).any() else \"No churned customers found between 21 to 30 days. Please check your data.\")"
   ]
  },
  {
   "cell_type": "code",
   "execution_count": 30,
   "metadata": {},
   "outputs": [
    {
     "name": "stdout",
     "output_type": "stream",
     "text": [
      "The number of customers who churned between 21 to 30 days and made no OG or IC calls in the first seven days is: 200\n"
     ]
    }
   ],
   "source": [
    "churned_customers = df[df['TARGET_21_30'] == 1]\n",
    "\n",
    "# Filter customers who haven't made any OG or IC calls in the first seven days\n",
    "no_calls_customers = churned_customers[(churned_customers['OG_CALLS_F7'] == 0) & (churned_customers['IC_CALLS_F7'] == 0)]\n",
    "\n",
    "num_customers = len(no_calls_customers)\n",
    "\n",
    "print(f\"The number of customers who churned between 21 to 30 days and made no OG or IC calls in the first seven days is: {num_customers}\")"
   ]
  },
  {
   "cell_type": "code",
   "execution_count": 31,
   "metadata": {},
   "outputs": [
    {
     "name": "stdout",
     "output_type": "stream",
     "text": [
      "The churn rate of DND customers is: 0.14107883817427386\n"
     ]
    }
   ],
   "source": [
    "dnd_customers = df[df['DND_INFO'] == 1]\n",
    "\n",
    "# Calculate churn rate for DND customers\n",
    "churn_rate_dnd = dnd_customers['TARGET'].mean()\n",
    "\n",
    "print(f\"The churn rate of DND customers is: {churn_rate_dnd}\")"
   ]
  },
  {
   "cell_type": "code",
   "execution_count": 33,
   "metadata": {},
   "outputs": [
    {
     "name": "stdout",
     "output_type": "stream",
     "text": [
      "The most common total recharge amount in the first 10 days is: 58\n"
     ]
    }
   ],
   "source": [
    "df = pd.read_csv('telecom.csv')\n",
    "\n",
    "# Find the most common total recharge amount in the first 10 days\n",
    "most_common_recharge = df['RCHG_AMOUNT_F10'].mode()\n",
    "\n",
    "print(f\"The most common total recharge amount in the first 10 days is: {most_common_recharge.values[0]}\")"
   ]
  },
  {
   "cell_type": "code",
   "execution_count": 34,
   "metadata": {},
   "outputs": [
    {
     "name": "stdout",
     "output_type": "stream",
     "text": [
      "The number of customers who have used their balance in the first 10 days is: 560\n"
     ]
    }
   ],
   "source": [
    "# Check for changes in maximum main balance between the first 4 and 10 days\n",
    "balance_used_customers = df[df['MAX_MBL_F10'] != df['MAX_MBL_F4']]\n",
    "\n",
    "# Count the number of customers who have used their balance in the first 10 days\n",
    "num_customers_used_balance = len(balance_used_customers)\n",
    "\n",
    "print(f\"The number of customers who have used their balance in the first 10 days is: {num_customers_used_balance}\")"
   ]
  },
  {
   "cell_type": "code",
   "execution_count": 35,
   "metadata": {},
   "outputs": [
    {
     "name": "stdout",
     "output_type": "stream",
     "text": [
      "The correlation between incoming and outgoing calls in the first 10 days is: 0.5366141548878882\n",
      "There is a positive correlation. Consider offering a combined product with benefits for both IC and OG calls.\n"
     ]
    }
   ],
   "source": [
    "# Calculate the correlation between incoming and outgoing calls in the first 10 days\n",
    "correlation = df['IC_CALLS_F10'].corr(df['OG_CALLS_F10'])\n",
    "\n",
    "print(f\"The correlation between incoming and outgoing calls in the first 10 days is: {correlation}\")\n",
    "\n",
    "# Provide insights based on the correlation\n",
    "if correlation > 0:\n",
    "    print(\"There is a positive correlation. Consider offering a combined product with benefits for both IC and OG calls.\")\n",
    "elif correlation < 0:\n",
    "    print(\"There is a negative correlation. Consider offering separate products with specific benefits for IC and OG calls.\")\n",
    "else:\n",
    "    print(\"There is little to no correlation. Evaluate customer preferences and consider flexible product offerings.\")"
   ]
  },
  {
   "cell_type": "code",
   "execution_count": 36,
   "metadata": {},
   "outputs": [
    {
     "name": "stdout",
     "output_type": "stream",
     "text": [
      "The average usage spread for churners in the first 10 days is: 0.10268314210061784\n",
      "The average usage spread for non-churners in the first 10 days is: 0.1727644168606155\n"
     ]
    }
   ],
   "source": [
    "churners = df[df['TARGET'] == 1]\n",
    "non_churners = df[df['TARGET'] == 0]\n",
    "\n",
    "# Calculate the average usage spread for churners and non-churners\n",
    "avg_usage_spread_churners = churners['USAGE_SPREAD'].mean()\n",
    "avg_usage_spread_non_churners = non_churners['USAGE_SPREAD'].mean()\n",
    "\n",
    "print(f\"The average usage spread for churners in the first 10 days is: {avg_usage_spread_churners}\")\n",
    "print(f\"The average usage spread for non-churners in the first 10 days is: {avg_usage_spread_non_churners}\")"
   ]
  },
  {
   "cell_type": "code",
   "execution_count": 37,
   "metadata": {},
   "outputs": [
    {
     "name": "stdout",
     "output_type": "stream",
     "text": [
      "The number of customers on VLR every day in the first 10 days and still churned between 21 to 30 days is: 643\n"
     ]
    }
   ],
   "source": [
    "on_vlr_and_churned = df[(df['CNT_VLR_INS_F10'] == 10) & (df['TARGET_21_30'] == 1)]\n",
    "\n",
    "# Count the number of such customers\n",
    "num_customers_on_vlr_and_churned = len(on_vlr_and_churned)\n",
    "\n",
    "print(f\"The number of customers on VLR every day in the first 10 days and still churned between 21 to 30 days is: {num_customers_on_vlr_and_churned}\")"
   ]
  },
  {
   "cell_type": "code",
   "execution_count": 38,
   "metadata": {},
   "outputs": [
    {
     "name": "stdout",
     "output_type": "stream",
     "text": [
      "The number of variables with constant values is: 2\n",
      "The names of variables with constant values are: Index(['SUBS_ACTIVATION_DT', 'ACTIVATION_DT'], dtype='object')\n"
     ]
    }
   ],
   "source": [
    "# Count variables with constant values\n",
    "constant_variables = df.columns[df.nunique() == 1]\n",
    "num_constant_variables = len(constant_variables)\n",
    "\n",
    "print(f\"The number of variables with constant values is: {num_constant_variables}\")\n",
    "print(f\"The names of variables with constant values are: {constant_variables}\")"
   ]
  }
 ],
 "metadata": {
  "kernelspec": {
   "display_name": "Python 3",
   "language": "python",
   "name": "python3"
  },
  "language_info": {
   "codemirror_mode": {
    "name": "ipython",
    "version": 3
   },
   "file_extension": ".py",
   "mimetype": "text/x-python",
   "name": "python",
   "nbconvert_exporter": "python",
   "pygments_lexer": "ipython3",
   "version": "3.12.0"
  }
 },
 "nbformat": 4,
 "nbformat_minor": 2
}
